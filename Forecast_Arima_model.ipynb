{
  "nbformat": 4,
  "nbformat_minor": 0,
  "metadata": {
    "colab": {
      "provenance": [],
      "authorship_tag": "ABX9TyPEs8UigENCcN5tpgtr1uHd",
      "include_colab_link": true
    },
    "kernelspec": {
      "name": "python3",
      "display_name": "Python 3"
    },
    "language_info": {
      "name": "python"
    }
  },
  "cells": [
    {
      "cell_type": "markdown",
      "metadata": {
        "id": "view-in-github",
        "colab_type": "text"
      },
      "source": [
        "<a href=\"https://colab.research.google.com/github/SunnyWangW/Colab/blob/main/Forecast_Arima_model.ipynb\" target=\"_parent\"><img src=\"https://colab.research.google.com/assets/colab-badge.svg\" alt=\"Open In Colab\"/></a>"
      ]
    },
    {
      "cell_type": "code",
      "execution_count": null,
      "metadata": {
        "colab": {
          "base_uri": "https://localhost:8080/"
        },
        "id": "eTVMxy71VbYW",
        "outputId": "bc350797-78be-4b14-a07b-3fceff1af1c6"
      },
      "outputs": [
        {
          "output_type": "stream",
          "name": "stdout",
          "text": [
            "Mounted at /content/drive\n"
          ]
        }
      ],
      "source": [
        "from google.colab import drive\n",
        "drive.mount('/content/drive')\n",
        "import pandas as pd\n",
        "# https://medium.com/@i.cemozcelik/data-science-project-sales-forecasting-with-arima-model-67321d547866\n",
        "# https://machinelearningmastery.com/arima-for-time-series-forecasting-with-python/"
      ]
    },
    {
      "cell_type": "markdown",
      "source": [
        "(1)AR (Auto-Regressive): the time series is linearly regressed on its own past values\n",
        "\n",
        "(2)I (Integrated): if not stationary, the time series can be differenced to become stationary,\n",
        "\n",
        "i.e., compute the differences between consecutive observations\n",
        "\n",
        "(3)MA (Moving Average): the time series is ‘regressed’ on the past forecast errors"
      ],
      "metadata": {
        "id": "r4AHcsY6-tO0"
      }
    },
    {
      "cell_type": "code",
      "source": [
        "!pip install pmdarima"
      ],
      "metadata": {
        "colab": {
          "base_uri": "https://localhost:8080/"
        },
        "id": "zWRs3vkWZ2q_",
        "outputId": "26004703-e7d9-46aa-b550-2a12955204ac"
      },
      "execution_count": null,
      "outputs": [
        {
          "output_type": "stream",
          "name": "stdout",
          "text": [
            "Collecting pmdarima\n",
            "  Downloading pmdarima-2.0.3-cp310-cp310-manylinux_2_17_x86_64.manylinux2014_x86_64.manylinux_2_28_x86_64.whl (1.8 MB)\n",
            "\u001b[2K     \u001b[90m━━━━━━━━━━━━━━━━━━━━━━━━━━━━━━━━━━━━━━━━\u001b[0m \u001b[32m1.8/1.8 MB\u001b[0m \u001b[31m14.3 MB/s\u001b[0m eta \u001b[36m0:00:00\u001b[0m\n",
            "\u001b[?25hRequirement already satisfied: joblib>=0.11 in /usr/local/lib/python3.10/dist-packages (from pmdarima) (1.3.2)\n",
            "Requirement already satisfied: Cython!=0.29.18,!=0.29.31,>=0.29 in /usr/local/lib/python3.10/dist-packages (from pmdarima) (0.29.36)\n",
            "Requirement already satisfied: numpy>=1.21.2 in /usr/local/lib/python3.10/dist-packages (from pmdarima) (1.23.5)\n",
            "Requirement already satisfied: pandas>=0.19 in /usr/local/lib/python3.10/dist-packages (from pmdarima) (1.5.3)\n",
            "Requirement already satisfied: scikit-learn>=0.22 in /usr/local/lib/python3.10/dist-packages (from pmdarima) (1.2.2)\n",
            "Requirement already satisfied: scipy>=1.3.2 in /usr/local/lib/python3.10/dist-packages (from pmdarima) (1.10.1)\n",
            "Requirement already satisfied: statsmodels>=0.13.2 in /usr/local/lib/python3.10/dist-packages (from pmdarima) (0.14.0)\n",
            "Requirement already satisfied: urllib3 in /usr/local/lib/python3.10/dist-packages (from pmdarima) (2.0.4)\n",
            "Requirement already satisfied: setuptools!=50.0.0,>=38.6.0 in /usr/local/lib/python3.10/dist-packages (from pmdarima) (67.7.2)\n",
            "Requirement already satisfied: python-dateutil>=2.8.1 in /usr/local/lib/python3.10/dist-packages (from pandas>=0.19->pmdarima) (2.8.2)\n",
            "Requirement already satisfied: pytz>=2020.1 in /usr/local/lib/python3.10/dist-packages (from pandas>=0.19->pmdarima) (2023.3)\n",
            "Requirement already satisfied: threadpoolctl>=2.0.0 in /usr/local/lib/python3.10/dist-packages (from scikit-learn>=0.22->pmdarima) (3.2.0)\n",
            "Requirement already satisfied: patsy>=0.5.2 in /usr/local/lib/python3.10/dist-packages (from statsmodels>=0.13.2->pmdarima) (0.5.3)\n",
            "Requirement already satisfied: packaging>=21.3 in /usr/local/lib/python3.10/dist-packages (from statsmodels>=0.13.2->pmdarima) (23.1)\n",
            "Requirement already satisfied: six in /usr/local/lib/python3.10/dist-packages (from patsy>=0.5.2->statsmodels>=0.13.2->pmdarima) (1.16.0)\n",
            "Installing collected packages: pmdarima\n",
            "Successfully installed pmdarima-2.0.3\n"
          ]
        }
      ]
    },
    {
      "cell_type": "code",
      "source": [
        "import seaborn as sns\n",
        "import matplotlib.pyplot as plt\n",
        "from matplotlib import pyplot\n",
        "from pandas import DataFrame\n",
        "import os\n",
        "\n",
        "from statsmodels.tsa.stattools import adfuller\n",
        "from pmdarima import auto_arima\n",
        "from pandas.plotting import autocorrelation_plot\n",
        "\n",
        "from sklearn.metrics import mean_squared_error\n",
        "from math import sqrt\n",
        "\n",
        "from statsmodels.tsa.arima.model import ARIMA"
      ],
      "metadata": {
        "id": "l2lA-dBfZlps"
      },
      "execution_count": null,
      "outputs": []
    },
    {
      "cell_type": "code",
      "source": [
        "data = pd.read_csv('/content/drive/MyDrive/Colab Notebooks/shampoo.csv')\n",
        "print(data.head())"
      ],
      "metadata": {
        "colab": {
          "base_uri": "https://localhost:8080/"
        },
        "id": "mC6x5BEsVzDw",
        "outputId": "25756532-e154-455c-d483-ccc045f0093b"
      },
      "execution_count": null,
      "outputs": [
        {
          "output_type": "stream",
          "name": "stdout",
          "text": [
            "  Month  Sales\n",
            "0  1-01  266.0\n",
            "1  1-02  145.9\n",
            "2  1-03  183.1\n",
            "3  1-04  119.3\n",
            "4  1-05  180.3\n"
          ]
        }
      ]
    },
    {
      "cell_type": "code",
      "source": [
        "len(data)"
      ],
      "metadata": {
        "colab": {
          "base_uri": "https://localhost:8080/"
        },
        "id": "t4hrocCi8AmI",
        "outputId": "4aa7164b-3872-4a05-afae-e664b9e45fa7"
      },
      "execution_count": 11,
      "outputs": [
        {
          "output_type": "execute_result",
          "data": {
            "text/plain": [
              "36"
            ]
          },
          "metadata": {},
          "execution_count": 11
        }
      ]
    },
    {
      "cell_type": "code",
      "source": [
        "for index,row in data.iterrows():\n",
        " print (index)\n",
        " print (row)"
      ],
      "metadata": {
        "colab": {
          "base_uri": "https://localhost:8080/"
        },
        "id": "k5hRNiER5n4x",
        "outputId": "a9ca60b5-3734-4396-a304-c4544e997437"
      },
      "execution_count": null,
      "outputs": [
        {
          "output_type": "stream",
          "name": "stdout",
          "text": [
            "0\n",
            "Month         1-01\n",
            "Sales        266.0\n",
            "Temp_date        0\n",
            "Name: 0, dtype: object\n",
            "1\n",
            "Month         1-02\n",
            "Sales        145.9\n",
            "Temp_date        0\n",
            "Name: 1, dtype: object\n",
            "2\n",
            "Month         1-03\n",
            "Sales        183.1\n",
            "Temp_date        0\n",
            "Name: 2, dtype: object\n",
            "3\n",
            "Month         1-04\n",
            "Sales        119.3\n",
            "Temp_date        0\n",
            "Name: 3, dtype: object\n",
            "4\n",
            "Month         1-05\n",
            "Sales        180.3\n",
            "Temp_date        0\n",
            "Name: 4, dtype: object\n",
            "5\n",
            "Month         1-06\n",
            "Sales        168.5\n",
            "Temp_date        0\n",
            "Name: 5, dtype: object\n",
            "6\n",
            "Month         1-07\n",
            "Sales        231.8\n",
            "Temp_date        0\n",
            "Name: 6, dtype: object\n",
            "7\n",
            "Month         1-08\n",
            "Sales        224.5\n",
            "Temp_date        0\n",
            "Name: 7, dtype: object\n",
            "8\n",
            "Month         1-09\n",
            "Sales        192.8\n",
            "Temp_date        0\n",
            "Name: 8, dtype: object\n",
            "9\n",
            "Month         1-10\n",
            "Sales        122.9\n",
            "Temp_date        0\n",
            "Name: 9, dtype: object\n",
            "10\n",
            "Month         1-11\n",
            "Sales        336.5\n",
            "Temp_date        0\n",
            "Name: 10, dtype: object\n",
            "11\n",
            "Month         1-12\n",
            "Sales        185.9\n",
            "Temp_date        0\n",
            "Name: 11, dtype: object\n",
            "12\n",
            "Month         2-01\n",
            "Sales        194.3\n",
            "Temp_date        0\n",
            "Name: 12, dtype: object\n",
            "13\n",
            "Month         2-02\n",
            "Sales        149.5\n",
            "Temp_date        0\n",
            "Name: 13, dtype: object\n",
            "14\n",
            "Month         2-03\n",
            "Sales        210.1\n",
            "Temp_date        0\n",
            "Name: 14, dtype: object\n",
            "15\n",
            "Month         2-04\n",
            "Sales        273.3\n",
            "Temp_date        0\n",
            "Name: 15, dtype: object\n",
            "16\n",
            "Month         2-05\n",
            "Sales        191.4\n",
            "Temp_date        0\n",
            "Name: 16, dtype: object\n",
            "17\n",
            "Month         2-06\n",
            "Sales        287.0\n",
            "Temp_date        0\n",
            "Name: 17, dtype: object\n",
            "18\n",
            "Month         2-07\n",
            "Sales        226.0\n",
            "Temp_date        0\n",
            "Name: 18, dtype: object\n",
            "19\n",
            "Month         2-08\n",
            "Sales        303.6\n",
            "Temp_date        0\n",
            "Name: 19, dtype: object\n",
            "20\n",
            "Month         2-09\n",
            "Sales        289.9\n",
            "Temp_date        0\n",
            "Name: 20, dtype: object\n",
            "21\n",
            "Month         2-10\n",
            "Sales        421.6\n",
            "Temp_date        0\n",
            "Name: 21, dtype: object\n",
            "22\n",
            "Month         2-11\n",
            "Sales        264.5\n",
            "Temp_date        0\n",
            "Name: 22, dtype: object\n",
            "23\n",
            "Month         2-12\n",
            "Sales        342.3\n",
            "Temp_date        0\n",
            "Name: 23, dtype: object\n",
            "24\n",
            "Month         3-01\n",
            "Sales        339.7\n",
            "Temp_date        0\n",
            "Name: 24, dtype: object\n",
            "25\n",
            "Month         3-02\n",
            "Sales        440.4\n",
            "Temp_date        0\n",
            "Name: 25, dtype: object\n",
            "26\n",
            "Month         3-03\n",
            "Sales        315.9\n",
            "Temp_date        0\n",
            "Name: 26, dtype: object\n",
            "27\n",
            "Month         3-04\n",
            "Sales        439.3\n",
            "Temp_date        0\n",
            "Name: 27, dtype: object\n",
            "28\n",
            "Month         3-05\n",
            "Sales        401.3\n",
            "Temp_date        0\n",
            "Name: 28, dtype: object\n",
            "29\n",
            "Month         3-06\n",
            "Sales        437.4\n",
            "Temp_date        0\n",
            "Name: 29, dtype: object\n",
            "30\n",
            "Month         3-07\n",
            "Sales        575.5\n",
            "Temp_date        0\n",
            "Name: 30, dtype: object\n",
            "31\n",
            "Month         3-08\n",
            "Sales        407.6\n",
            "Temp_date        0\n",
            "Name: 31, dtype: object\n",
            "32\n",
            "Month         3-09\n",
            "Sales        682.0\n",
            "Temp_date        0\n",
            "Name: 32, dtype: object\n",
            "33\n",
            "Month         3-10\n",
            "Sales        475.3\n",
            "Temp_date        0\n",
            "Name: 33, dtype: object\n",
            "34\n",
            "Month         3-11\n",
            "Sales        581.3\n",
            "Temp_date        0\n",
            "Name: 34, dtype: object\n",
            "35\n",
            "Month         3-12\n",
            "Sales        646.9\n",
            "Temp_date        0\n",
            "Name: 35, dtype: object\n"
          ]
        }
      ]
    },
    {
      "cell_type": "code",
      "source": [
        "data['Temp_date'] = 0\n",
        "# print(data.head())\n",
        "df= data.copy()\n",
        "initial_year = 2019\n",
        "counter = 0\n",
        "for indx,row in df.iterrows():\n",
        "    #print(indx)\n",
        "    if counter < 12 :\n",
        "        year = initial_year\n",
        "    elif counter >=12 and counter <24:\n",
        "        year = initial_year + 1\n",
        "    elif counter >=24:\n",
        "        year = initial_year + 2\n",
        "    df['Temp_date'].iloc[indx] = str(year) + \"-\" + df['Month'].iloc[indx][2:]\n",
        "    counter += 1\n",
        "\n",
        "\n",
        "df['Month'] = df['Temp_date']\n",
        "df.drop(columns = 'Temp_date', inplace = True)\n",
        "df['Month'] = df['Month'] + \"-\" + \"01\"\n",
        "df = df[0:36]"
      ],
      "metadata": {
        "colab": {
          "base_uri": "https://localhost:8080/"
        },
        "id": "IJA315X0aRp6",
        "outputId": "053f103f-d1dd-4c9c-fd78-a0b72d7a2498"
      },
      "execution_count": null,
      "outputs": [
        {
          "output_type": "stream",
          "name": "stderr",
          "text": [
            "<ipython-input-5-c7cb3aaa0b42>:14: SettingWithCopyWarning: \n",
            "A value is trying to be set on a copy of a slice from a DataFrame\n",
            "\n",
            "See the caveats in the documentation: https://pandas.pydata.org/pandas-docs/stable/user_guide/indexing.html#returning-a-view-versus-a-copy\n",
            "  df['Temp_date'].iloc[indx] = str(year) + \"-\" + df['Month'].iloc[indx][2:]\n"
          ]
        }
      ]
    },
    {
      "cell_type": "code",
      "source": [
        "df.head()"
      ],
      "metadata": {
        "colab": {
          "base_uri": "https://localhost:8080/",
          "height": 206
        },
        "id": "YZG8M3wYa-79",
        "outputId": "2dc0123a-88df-4245-c83e-0e41225b368c"
      },
      "execution_count": null,
      "outputs": [
        {
          "output_type": "execute_result",
          "data": {
            "text/plain": [
              "        Month  Sales\n",
              "0  2019-01-01  266.0\n",
              "1  2019-02-01  145.9\n",
              "2  2019-03-01  183.1\n",
              "3  2019-04-01  119.3\n",
              "4  2019-05-01  180.3"
            ],
            "text/html": [
              "\n",
              "  <div id=\"df-3dcb0963-5e95-491b-8f2c-d25510047c63\" class=\"colab-df-container\">\n",
              "    <div>\n",
              "<style scoped>\n",
              "    .dataframe tbody tr th:only-of-type {\n",
              "        vertical-align: middle;\n",
              "    }\n",
              "\n",
              "    .dataframe tbody tr th {\n",
              "        vertical-align: top;\n",
              "    }\n",
              "\n",
              "    .dataframe thead th {\n",
              "        text-align: right;\n",
              "    }\n",
              "</style>\n",
              "<table border=\"1\" class=\"dataframe\">\n",
              "  <thead>\n",
              "    <tr style=\"text-align: right;\">\n",
              "      <th></th>\n",
              "      <th>Month</th>\n",
              "      <th>Sales</th>\n",
              "    </tr>\n",
              "  </thead>\n",
              "  <tbody>\n",
              "    <tr>\n",
              "      <th>0</th>\n",
              "      <td>2019-01-01</td>\n",
              "      <td>266.0</td>\n",
              "    </tr>\n",
              "    <tr>\n",
              "      <th>1</th>\n",
              "      <td>2019-02-01</td>\n",
              "      <td>145.9</td>\n",
              "    </tr>\n",
              "    <tr>\n",
              "      <th>2</th>\n",
              "      <td>2019-03-01</td>\n",
              "      <td>183.1</td>\n",
              "    </tr>\n",
              "    <tr>\n",
              "      <th>3</th>\n",
              "      <td>2019-04-01</td>\n",
              "      <td>119.3</td>\n",
              "    </tr>\n",
              "    <tr>\n",
              "      <th>4</th>\n",
              "      <td>2019-05-01</td>\n",
              "      <td>180.3</td>\n",
              "    </tr>\n",
              "  </tbody>\n",
              "</table>\n",
              "</div>\n",
              "    <div class=\"colab-df-buttons\">\n",
              "\n",
              "  <div class=\"colab-df-container\">\n",
              "    <button class=\"colab-df-convert\" onclick=\"convertToInteractive('df-3dcb0963-5e95-491b-8f2c-d25510047c63')\"\n",
              "            title=\"Convert this dataframe to an interactive table.\"\n",
              "            style=\"display:none;\">\n",
              "\n",
              "  <svg xmlns=\"http://www.w3.org/2000/svg\" height=\"24px\" viewBox=\"0 -960 960 960\">\n",
              "    <path d=\"M120-120v-720h720v720H120Zm60-500h600v-160H180v160Zm220 220h160v-160H400v160Zm0 220h160v-160H400v160ZM180-400h160v-160H180v160Zm440 0h160v-160H620v160ZM180-180h160v-160H180v160Zm440 0h160v-160H620v160Z\"/>\n",
              "  </svg>\n",
              "    </button>\n",
              "\n",
              "  <style>\n",
              "    .colab-df-container {\n",
              "      display:flex;\n",
              "      gap: 12px;\n",
              "    }\n",
              "\n",
              "    .colab-df-convert {\n",
              "      background-color: #E8F0FE;\n",
              "      border: none;\n",
              "      border-radius: 50%;\n",
              "      cursor: pointer;\n",
              "      display: none;\n",
              "      fill: #1967D2;\n",
              "      height: 32px;\n",
              "      padding: 0 0 0 0;\n",
              "      width: 32px;\n",
              "    }\n",
              "\n",
              "    .colab-df-convert:hover {\n",
              "      background-color: #E2EBFA;\n",
              "      box-shadow: 0px 1px 2px rgba(60, 64, 67, 0.3), 0px 1px 3px 1px rgba(60, 64, 67, 0.15);\n",
              "      fill: #174EA6;\n",
              "    }\n",
              "\n",
              "    .colab-df-buttons div {\n",
              "      margin-bottom: 4px;\n",
              "    }\n",
              "\n",
              "    [theme=dark] .colab-df-convert {\n",
              "      background-color: #3B4455;\n",
              "      fill: #D2E3FC;\n",
              "    }\n",
              "\n",
              "    [theme=dark] .colab-df-convert:hover {\n",
              "      background-color: #434B5C;\n",
              "      box-shadow: 0px 1px 3px 1px rgba(0, 0, 0, 0.15);\n",
              "      filter: drop-shadow(0px 1px 2px rgba(0, 0, 0, 0.3));\n",
              "      fill: #FFFFFF;\n",
              "    }\n",
              "  </style>\n",
              "\n",
              "    <script>\n",
              "      const buttonEl =\n",
              "        document.querySelector('#df-3dcb0963-5e95-491b-8f2c-d25510047c63 button.colab-df-convert');\n",
              "      buttonEl.style.display =\n",
              "        google.colab.kernel.accessAllowed ? 'block' : 'none';\n",
              "\n",
              "      async function convertToInteractive(key) {\n",
              "        const element = document.querySelector('#df-3dcb0963-5e95-491b-8f2c-d25510047c63');\n",
              "        const dataTable =\n",
              "          await google.colab.kernel.invokeFunction('convertToInteractive',\n",
              "                                                    [key], {});\n",
              "        if (!dataTable) return;\n",
              "\n",
              "        const docLinkHtml = 'Like what you see? Visit the ' +\n",
              "          '<a target=\"_blank\" href=https://colab.research.google.com/notebooks/data_table.ipynb>data table notebook</a>'\n",
              "          + ' to learn more about interactive tables.';\n",
              "        element.innerHTML = '';\n",
              "        dataTable['output_type'] = 'display_data';\n",
              "        await google.colab.output.renderOutput(dataTable, element);\n",
              "        const docLink = document.createElement('div');\n",
              "        docLink.innerHTML = docLinkHtml;\n",
              "        element.appendChild(docLink);\n",
              "      }\n",
              "    </script>\n",
              "  </div>\n",
              "\n",
              "\n",
              "<div id=\"df-b2bf5695-b2a7-4025-8897-041e5ee2c380\">\n",
              "  <button class=\"colab-df-quickchart\" onclick=\"quickchart('df-b2bf5695-b2a7-4025-8897-041e5ee2c380')\"\n",
              "            title=\"Suggest charts.\"\n",
              "            style=\"display:none;\">\n",
              "\n",
              "<svg xmlns=\"http://www.w3.org/2000/svg\" height=\"24px\"viewBox=\"0 0 24 24\"\n",
              "     width=\"24px\">\n",
              "    <g>\n",
              "        <path d=\"M19 3H5c-1.1 0-2 .9-2 2v14c0 1.1.9 2 2 2h14c1.1 0 2-.9 2-2V5c0-1.1-.9-2-2-2zM9 17H7v-7h2v7zm4 0h-2V7h2v10zm4 0h-2v-4h2v4z\"/>\n",
              "    </g>\n",
              "</svg>\n",
              "  </button>\n",
              "\n",
              "<style>\n",
              "  .colab-df-quickchart {\n",
              "    background-color: #E8F0FE;\n",
              "    border: none;\n",
              "    border-radius: 50%;\n",
              "    cursor: pointer;\n",
              "    display: none;\n",
              "    fill: #1967D2;\n",
              "    height: 32px;\n",
              "    padding: 0 0 0 0;\n",
              "    width: 32px;\n",
              "  }\n",
              "\n",
              "  .colab-df-quickchart:hover {\n",
              "    background-color: #E2EBFA;\n",
              "    box-shadow: 0px 1px 2px rgba(60, 64, 67, 0.3), 0px 1px 3px 1px rgba(60, 64, 67, 0.15);\n",
              "    fill: #174EA6;\n",
              "  }\n",
              "\n",
              "  [theme=dark] .colab-df-quickchart {\n",
              "    background-color: #3B4455;\n",
              "    fill: #D2E3FC;\n",
              "  }\n",
              "\n",
              "  [theme=dark] .colab-df-quickchart:hover {\n",
              "    background-color: #434B5C;\n",
              "    box-shadow: 0px 1px 3px 1px rgba(0, 0, 0, 0.15);\n",
              "    filter: drop-shadow(0px 1px 2px rgba(0, 0, 0, 0.3));\n",
              "    fill: #FFFFFF;\n",
              "  }\n",
              "</style>\n",
              "\n",
              "  <script>\n",
              "    async function quickchart(key) {\n",
              "      const charts = await google.colab.kernel.invokeFunction(\n",
              "          'suggestCharts', [key], {});\n",
              "    }\n",
              "    (() => {\n",
              "      let quickchartButtonEl =\n",
              "        document.querySelector('#df-b2bf5695-b2a7-4025-8897-041e5ee2c380 button');\n",
              "      quickchartButtonEl.style.display =\n",
              "        google.colab.kernel.accessAllowed ? 'block' : 'none';\n",
              "    })();\n",
              "  </script>\n",
              "</div>\n",
              "    </div>\n",
              "  </div>\n"
            ]
          },
          "metadata": {},
          "execution_count": 11
        }
      ]
    },
    {
      "cell_type": "code",
      "source": [
        "df= df.set_index(['Month'])\n",
        "df = df.rename({'Sales of shampoo over a three year period': 'Sales'}, axis=1)"
      ],
      "metadata": {
        "id": "62sOzuGiQ8V0"
      },
      "execution_count": null,
      "outputs": []
    },
    {
      "cell_type": "markdown",
      "source": [],
      "metadata": {
        "id": "_notsJyuRn2-"
      }
    },
    {
      "cell_type": "code",
      "source": [
        "plt.figure(figsize=(12,5))\n",
        "plt.title(\"Price Distirbution Graph\")\n",
        "ax = sns.distplot(df[\"Sales\"], color = 'y')"
      ],
      "metadata": {
        "colab": {
          "base_uri": "https://localhost:8080/",
          "height": 678
        },
        "id": "xNViw6paRU9I",
        "outputId": "d61ca0a3-d7bd-4641-a276-ddafcbd8a240"
      },
      "execution_count": null,
      "outputs": [
        {
          "output_type": "stream",
          "name": "stderr",
          "text": [
            "<ipython-input-10-f0ced7e974a7>:3: UserWarning: \n",
            "\n",
            "`distplot` is a deprecated function and will be removed in seaborn v0.14.0.\n",
            "\n",
            "Please adapt your code to use either `displot` (a figure-level function with\n",
            "similar flexibility) or `histplot` (an axes-level function for histograms).\n",
            "\n",
            "For a guide to updating your code to use the new functions, please see\n",
            "https://gist.github.com/mwaskom/de44147ed2974457ad6372750bbe5751\n",
            "\n",
            "  ax = sns.distplot(df[\"Sales\"], color = 'y')\n"
          ]
        },
        {
          "output_type": "display_data",
          "data": {
            "text/plain": [
              "<Figure size 1200x500 with 1 Axes>"
            ],
            "image/png": "[encoded data removed]"
          },
          "metadata": {}
        }
      ]
    },
    {
      "cell_type": "markdown",
      "source": [
        "Use AIC test to check stationary.\n",
        "If P <0.05 - >The data is stationary.\n",
        "If p> 0.05 -> Data are not stationary."
      ],
      "metadata": {
        "id": "vLO7HSdzSCzr"
      }
    },
    {
      "cell_type": "markdown",
      "source": [],
      "metadata": {
        "id": "JkrgRxSPRku5"
      }
    },
    {
      "cell_type": "code",
      "source": [
        "def ad_test(dataset):\n",
        "\n",
        "    dftest = adfuller(dataset, autolag = 'AIC')\n",
        "\n",
        "    print(\"1. ADF : \",dftest[0])\n",
        "    print(\"2. P-Value : \", dftest[1])\n",
        "    print(\"3. Num Of Lags : \", dftest[2])\n",
        "    print(\"4. Num Of Observations Used For ADF Regression:\",dftest[3])\n",
        "    print(\"5. Critical Values :\")\n",
        "    for key, val in dftest[4].items():\n",
        "         print(\"\\t\",key, \": \", val)\n",
        "\n",
        "\n",
        "ad_test(df['Sales'])"
      ],
      "metadata": {
        "colab": {
          "base_uri": "https://localhost:8080/"
        },
        "id": "YM3f9vvpRk8_",
        "outputId": "e511f578-a223-4d5c-a443-10ed5a2a5d14"
      },
      "execution_count": null,
      "outputs": [
        {
          "output_type": "stream",
          "name": "stdout",
          "text": [
            "1. ADF :  3.060142083641181\n",
            "2. P-Value :  1.0\n",
            "3. Num Of Lags :  10\n",
            "4. Num Of Observations Used For ADF Regression: 25\n",
            "5. Critical Values :\n",
            "\t 1% :  -3.7238633119999998\n",
            "\t 5% :  -2.98648896\n",
            "\t 10% :  -2.6328004\n"
          ]
        }
      ]
    },
    {
      "cell_type": "markdown",
      "source": [
        "P value is 1.0 and the shampoo data is not stationary.\n",
        "\n",
        "We need use Difference method to make the data stationary."
      ],
      "metadata": {
        "id": "UymgT8YjSLlL"
      }
    },
    {
      "cell_type": "code",
      "source": [
        "from statsmodels.graphics.tsaplots import plot_acf, plot_pacf\n",
        "acf_original = plot_acf(df['Sales'])\n",
        "pacf_original = plot_pacf(df['Sales'])"
      ],
      "metadata": {
        "id": "oseNa5eC8mij",
        "colab": {
          "base_uri": "https://localhost:8080/",
          "height": 887
        },
        "outputId": "dd6ea8c5-7bae-4528-ecd8-0783604d51ed"
      },
      "execution_count": 12,
      "outputs": [
        {
          "output_type": "display_data",
          "data": {
            "text/plain": [
              "<Figure size 640x480 with 1 Axes>"
            ],
            "image/png": "[encoded data removed]"
          },
          "metadata": {}
        },
        {
          "output_type": "display_data",
          "data": {
            "text/plain": [
              "<Figure size 640x480 with 1 Axes>"
            ],
            "image/png": "[encoded data removed]"
          },
          "metadata": {}
        }
      ]
    },
    {
      "cell_type": "markdown",
      "source": [],
      "metadata": {
        "id": "quQv5BvgKjlR"
      }
    },
    {
      "cell_type": "markdown",
      "source": [
        "(1) use ACF and PACF(Partial Autocorrelation) to choose arima model\n",
        "\n",
        "(2) p = from PACF , because the PACF has a large spike at lag 3.\n",
        "\n",
        "(3) q = from ACF , ACF decay after lag 2,3 ."
      ],
      "metadata": {
        "id": "dAvSutx2KnP1"
      }
    },
    {
      "cell_type": "code",
      "source": [
        "#Use auto arima package to choose model.\n",
        "stepwise_fit = auto_arima(df['Sales'], trace=True,\n",
        "suppress_warnings=True)"
      ],
      "metadata": {
        "colab": {
          "base_uri": "https://localhost:8080/"
        },
        "id": "c_WsOXWWSeUW",
        "outputId": "7dfc071c-e651-4d04-dfb5-781839175ff8"
      },
      "execution_count": null,
      "outputs": [
        {
          "output_type": "stream",
          "name": "stdout",
          "text": [
            "Performing stepwise search to minimize aic\n",
            " ARIMA(2,1,2)(0,0,0)[0] intercept   : AIC=inf, Time=0.94 sec\n",
            " ARIMA(0,1,0)(0,0,0)[0] intercept   : AIC=430.873, Time=0.07 sec\n",
            " ARIMA(1,1,0)(0,0,0)[0] intercept   : AIC=405.977, Time=0.16 sec\n",
            " ARIMA(0,1,1)(0,0,0)[0] intercept   : AIC=408.967, Time=0.26 sec\n",
            " ARIMA(0,1,0)(0,0,0)[0]             : AIC=429.229, Time=0.09 sec\n",
            " ARIMA(2,1,0)(0,0,0)[0] intercept   : AIC=403.573, Time=0.31 sec\n",
            " ARIMA(3,1,0)(0,0,0)[0] intercept   : AIC=404.633, Time=0.54 sec\n",
            " ARIMA(2,1,1)(0,0,0)[0] intercept   : AIC=404.226, Time=0.37 sec\n",
            " ARIMA(1,1,1)(0,0,0)[0] intercept   : AIC=402.407, Time=0.28 sec\n",
            " ARIMA(1,1,2)(0,0,0)[0] intercept   : AIC=401.463, Time=0.34 sec\n",
            " ARIMA(0,1,2)(0,0,0)[0] intercept   : AIC=inf, Time=0.11 sec\n",
            " ARIMA(1,1,3)(0,0,0)[0] intercept   : AIC=inf, Time=0.38 sec\n",
            " ARIMA(0,1,3)(0,0,0)[0] intercept   : AIC=inf, Time=0.14 sec\n",
            " ARIMA(2,1,3)(0,0,0)[0] intercept   : AIC=inf, Time=0.35 sec\n",
            " ARIMA(1,1,2)(0,0,0)[0]             : AIC=inf, Time=0.10 sec\n",
            "\n",
            "Best model:  ARIMA(1,1,2)(0,0,0)[0] intercept\n",
            "Total fit time: 4.522 seconds\n"
          ]
        }
      ]
    },
    {
      "cell_type": "code",
      "source": [
        "# Cross-Validation\n",
        "X = df.values\n",
        "size = int(len(X) * 0.66)\n",
        "train, test = X[0:size], X[size:len(X)]\n",
        "history = [x for x in train]\n",
        "predictions = list()\n"
      ],
      "metadata": {
        "id": "GmR7TeQVTT6m"
      },
      "execution_count": 26,
      "outputs": []
    },
    {
      "cell_type": "code",
      "source": [
        "for t in range(len(test)):\n",
        "    model = ARIMA(history, order=(1,1,2))\n",
        "    model_fit = model.fit()\n",
        "    output = model_fit.forecast()\n",
        "    yhat = output[0]\n",
        "    predictions.append(yhat)\n",
        "    obs = test[t]\n",
        "    history.append(obs)\n",
        "    print('predicted=%f, expected=%f' % (yhat, obs))"
      ],
      "metadata": {
        "colab": {
          "base_uri": "https://localhost:8080/"
        },
        "id": "bzyxFW9ITqpM",
        "outputId": "39994614-fcc1-4c23-e0fe-7217f3ccfa5d"
      },
      "execution_count": 20,
      "outputs": [
        {
          "output_type": "stream",
          "name": "stdout",
          "text": [
            "predicted=349.970807, expected=342.300000\n",
            "predicted=286.003055, expected=339.700000\n",
            "predicted=341.015454, expected=440.400000\n",
            "predicted=341.819704, expected=315.900000\n",
            "predicted=391.521270, expected=439.300000\n",
            "predicted=339.753099, expected=401.300000\n",
            "predicted=424.993908, expected=437.400000\n",
            "predicted=387.268988, expected=575.500000\n",
            "predicted=468.852028, expected=407.600000\n",
            "predicted=503.761977, expected=682.000000\n",
            "predicted=460.691662, expected=475.300000\n",
            "predicted=613.988012, expected=581.300000\n",
            "predicted=521.714870, expected=646.900000\n"
          ]
        }
      ]
    },
    {
      "cell_type": "code",
      "source": [
        "rmse = sqrt(mean_squared_error(test, predictions))\n",
        "print('Test RMSE: %.3f' % rmse)\n"
      ],
      "metadata": {
        "colab": {
          "base_uri": "https://localhost:8080/"
        },
        "id": "VYHtFCfXTvP1",
        "outputId": "9e0a3e99-80ad-4f21-ffec-cb6504610322"
      },
      "execution_count": 16,
      "outputs": [
        {
          "output_type": "stream",
          "name": "stdout",
          "text": [
            "Test RMSE: 90.986\n"
          ]
        }
      ]
    },
    {
      "cell_type": "code",
      "source": [
        "pyplot.plot(test)\n",
        "pyplot.plot(predictions, color='red')\n",
        "pyplot.show()"
      ],
      "metadata": {
        "colab": {
          "base_uri": "https://localhost:8080/",
          "height": 434
        },
        "id": "IeWIW9gGTy0X",
        "outputId": "0132497f-dabd-4095-9b6e-68b51b0f0237"
      },
      "execution_count": null,
      "outputs": [
        {
          "output_type": "display_data",
          "data": {
            "text/plain": [
              "<Figure size 640x480 with 1 Axes>"
            ],
            "image/png": "[encoded data removed]"
          },
          "metadata": {}
        }
      ]
    },
    {
      "cell_type": "code",
      "source": [
        "predictions1 = list()\n",
        "for t in range(len(test)):\n",
        "    model = ARIMA(history, order=(3,1,2))\n",
        "    model_fit = model.fit()\n",
        "    output = model_fit.forecast()\n",
        "    yhat = output[0]\n",
        "    predictions1.append(yhat)\n",
        "    obs = test[t]\n",
        "    history.append(obs)\n",
        "    print('predicted=%f, expected=%f' % (yhat, obs))"
      ],
      "metadata": {
        "colab": {
          "base_uri": "https://localhost:8080/"
        },
        "id": "TKK2TM2MMKwS",
        "outputId": "8d56bdf9-4929-4bd3-bf8c-c8705fa321ab"
      },
      "execution_count": 32,
      "outputs": [
        {
          "output_type": "stream",
          "name": "stderr",
          "text": [
            "/usr/local/lib/python3.10/dist-packages/statsmodels/base/model.py:607: ConvergenceWarning: Maximum Likelihood optimization failed to converge. Check mle_retvals\n",
            "  warnings.warn(\"Maximum Likelihood optimization failed to \"\n"
          ]
        },
        {
          "output_type": "stream",
          "name": "stdout",
          "text": [
            "predicted=536.748303, expected=342.300000\n"
          ]
        },
        {
          "output_type": "stream",
          "name": "stderr",
          "text": [
            "/usr/local/lib/python3.10/dist-packages/statsmodels/base/model.py:607: ConvergenceWarning: Maximum Likelihood optimization failed to converge. Check mle_retvals\n",
            "  warnings.warn(\"Maximum Likelihood optimization failed to \"\n"
          ]
        },
        {
          "output_type": "stream",
          "name": "stdout",
          "text": [
            "predicted=570.211026, expected=339.700000\n"
          ]
        },
        {
          "output_type": "stream",
          "name": "stderr",
          "text": [
            "/usr/local/lib/python3.10/dist-packages/statsmodels/base/model.py:607: ConvergenceWarning: Maximum Likelihood optimization failed to converge. Check mle_retvals\n",
            "  warnings.warn(\"Maximum Likelihood optimization failed to \"\n"
          ]
        },
        {
          "output_type": "stream",
          "name": "stdout",
          "text": [
            "predicted=375.896953, expected=440.400000\n"
          ]
        },
        {
          "output_type": "stream",
          "name": "stderr",
          "text": [
            "/usr/local/lib/python3.10/dist-packages/statsmodels/base/model.py:607: ConvergenceWarning: Maximum Likelihood optimization failed to converge. Check mle_retvals\n",
            "  warnings.warn(\"Maximum Likelihood optimization failed to \"\n"
          ]
        },
        {
          "output_type": "stream",
          "name": "stdout",
          "text": [
            "predicted=317.599600, expected=315.900000\n"
          ]
        },
        {
          "output_type": "stream",
          "name": "stderr",
          "text": [
            "/usr/local/lib/python3.10/dist-packages/statsmodels/base/model.py:607: ConvergenceWarning: Maximum Likelihood optimization failed to converge. Check mle_retvals\n",
            "  warnings.warn(\"Maximum Likelihood optimization failed to \"\n"
          ]
        },
        {
          "output_type": "stream",
          "name": "stdout",
          "text": [
            "predicted=437.571370, expected=439.300000\n",
            "predicted=355.912761, expected=401.300000\n",
            "predicted=389.947424, expected=437.400000\n",
            "predicted=457.440389, expected=575.500000\n",
            "predicted=439.780851, expected=407.600000\n",
            "predicted=521.219355, expected=682.000000\n",
            "predicted=547.642498, expected=475.300000\n"
          ]
        },
        {
          "output_type": "stream",
          "name": "stderr",
          "text": [
            "/usr/local/lib/python3.10/dist-packages/statsmodels/base/model.py:607: ConvergenceWarning: Maximum Likelihood optimization failed to converge. Check mle_retvals\n",
            "  warnings.warn(\"Maximum Likelihood optimization failed to \"\n"
          ]
        },
        {
          "output_type": "stream",
          "name": "stdout",
          "text": [
            "predicted=555.786167, expected=581.300000\n",
            "predicted=598.995105, expected=646.900000\n"
          ]
        },
        {
          "output_type": "stream",
          "name": "stderr",
          "text": [
            "/usr/local/lib/python3.10/dist-packages/statsmodels/base/model.py:607: ConvergenceWarning: Maximum Likelihood optimization failed to converge. Check mle_retvals\n",
            "  warnings.warn(\"Maximum Likelihood optimization failed to \"\n"
          ]
        }
      ]
    },
    {
      "cell_type": "code",
      "source": [
        "rmse = sqrt(mean_squared_error(test, predictions1))\n",
        "print('Test RMSE: %.3f' % rmse)"
      ],
      "metadata": {
        "colab": {
          "base_uri": "https://localhost:8080/"
        },
        "id": "BK_UEUVr95qc",
        "outputId": "8eff2882-3b8d-414d-d380-885a1a490771"
      },
      "execution_count": 33,
      "outputs": [
        {
          "output_type": "stream",
          "name": "stdout",
          "text": [
            "Test RMSE: 106.853\n"
          ]
        }
      ]
    },
    {
      "cell_type": "code",
      "source": [
        "pyplot.plot(test)\n",
        "pyplot.plot(predictions1, color='red')\n",
        "pyplot.show()"
      ],
      "metadata": {
        "colab": {
          "base_uri": "https://localhost:8080/",
          "height": 435
        },
        "id": "SuTd5EVsORVy",
        "outputId": "1ec8ad85-7dc7-4516-fbdc-2c203f6cad9c"
      },
      "execution_count": 34,
      "outputs": [
        {
          "output_type": "display_data",
          "data": {
            "text/plain": [
              "<Figure size 640x480 with 1 Axes>"
            ],
            "image/png": "[encoded data removed]"
          },
          "metadata": {}
        }
      ]
    },
    {
      "cell_type": "markdown",
      "source": [],
      "metadata": {
        "id": "d3mY94PxSBoB"
      }
    }
  ]
}